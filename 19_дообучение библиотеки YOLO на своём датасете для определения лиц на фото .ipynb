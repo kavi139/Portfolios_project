{
  "nbformat": 4,
  "nbformat_minor": 0,
  "metadata": {
    "colab": {
      "provenance": [],
      "gpuType": "T4"
    },
    "kernelspec": {
      "name": "python3",
      "display_name": "Python 3"
    },
    "language_info": {
      "name": "python"
    },
    "accelerator": "GPU"
  },
  "cells": [
    {
      "cell_type": "markdown",
      "source": [
        "**Задание**\n",
        "\n",
        "1. Возьмите произвольную базу для задачи обнаружения объектов (можно взять базу из занятия, можно разметить самостоятельно 20-30 изображений)\n",
        "2. Обучите модель yolo размером \"m\" или более\n",
        "3. Сохраните веса на google-диск\n",
        "4. Создайте отдельный ноутбук, в котором установите TerraYolo\n",
        "5. Протетсируйте работу yolo на тестовом изображении (без загрузки обученных весов)\n",
        "6. Протестируйте работу yolo на тестовом изображении, указав путь к сохраненным ранее весам на google-диске\n"
      ],
      "metadata": {
        "id": "FB5T95F4f9b1"
      }
    },
    {
      "cell_type": "markdown",
      "source": [
        "# \"1. Возьмите произвольную базу для задачи обнаружения объектов\""
      ],
      "metadata": {
        "id": "pyeDdmVtR-Bv"
      }
    },
    {
      "cell_type": "code",
      "source": [
        "!pip -q install TerraYolo"
      ],
      "metadata": {
        "colab": {
          "base_uri": "https://localhost:8080/"
        },
        "id": "UNZzUybhgMCb",
        "outputId": "46cba520-34bd-4f93-bf2c-938f0845b039"
      },
      "execution_count": null,
      "outputs": [
        {
          "output_type": "stream",
          "name": "stdout",
          "text": [
            "Collecting TerraYolo\n",
            "  Downloading TerraYolo-0.0.33-py3-none-any.whl (39 kB)\n",
            "Installing collected packages: TerraYolo\n",
            "Successfully installed TerraYolo-0.0.33\n"
          ]
        }
      ]
    },
    {
      "cell_type": "code",
      "source": [
        "import os\n",
        "from google.colab import drive\n",
        "from TerraYolo.TerraYolo import TerraYoloV5"
      ],
      "metadata": {
        "id": "0VL-jcfTazbB"
      },
      "execution_count": null,
      "outputs": []
    },
    {
      "cell_type": "code",
      "source": [
        "TRAIN_DIR = '/content/dataset/'\n",
        "os.mkdir(TRAIN_DIR)\n",
        "!gdown https://storage.yandexcloud.net/terradev/terrayolo/cabin_data_1_classes.zip"
      ],
      "metadata": {
        "colab": {
          "base_uri": "https://localhost:8080/"
        },
        "id": "4Np9dzxQbI7g",
        "outputId": "115d6d9c-bbf1-4420-9e28-dc2a9c572021"
      },
      "execution_count": null,
      "outputs": [
        {
          "output_type": "stream",
          "name": "stdout",
          "text": [
            "Downloading...\n",
            "From: https://storage.yandexcloud.net/terradev/terrayolo/cabin_data_1_classes.zip\n",
            "To: /content/cabin_data_1_classes.zip\n",
            "100% 123M/123M [00:13<00:00, 9.07MB/s]\n"
          ]
        }
      ]
    },
    {
      "cell_type": "code",
      "source": [
        "!unzip -q -o cabin_data_1_classes.zip  -d {TRAIN_DIR}\n",
        "data_path = TRAIN_DIR+'data.yaml'"
      ],
      "metadata": {
        "id": "fO80MKvsbW1I"
      },
      "execution_count": null,
      "outputs": []
    },
    {
      "cell_type": "markdown",
      "source": [
        "# \"2. Обучите модель yolo размером \"m\" или более\""
      ],
      "metadata": {
        "id": "wtbxMInWSFu_"
      }
    },
    {
      "cell_type": "code",
      "source": [
        "my_terra_yolov5 = TerraYoloV5(work_dir=TRAIN_DIR)"
      ],
      "metadata": {
        "id": "R8dWuB9zcqQY"
      },
      "execution_count": null,
      "outputs": []
    },
    {
      "cell_type": "code",
      "source": [
        "train_dict=dict()\n",
        "train_dict['epochs'] = 3\n",
        "train_dict['data'] = data_path\n",
        "train_dict['weights'] = 'https://github.com/ultralytics/yolov5/releases/download/v7.0/yolov5m.pt'\n",
        "\n",
        "my_terra_yolov5.run(train_dict, exp_type='train')"
      ],
      "metadata": {
        "colab": {
          "base_uri": "https://localhost:8080/"
        },
        "id": "RguGlYW8hSzp",
        "outputId": "1504428c-3fa3-48e0-d5f2-cfee20378fd9"
      },
      "execution_count": null,
      "outputs": [
        {
          "output_type": "stream",
          "name": "stdout",
          "text": [
            "command python /content/dataset/yolov5/train.py --epochs 3 --data /content/dataset/data.yaml --weights https://github.com/ultralytics/yolov5/releases/download/v7.0/yolov5m.pt\n",
            "2024-04-08 21:12:47.820536: E external/local_xla/xla/stream_executor/cuda/cuda_dnn.cc:9261] Unable to register cuDNN factory: Attempting to register factory for plugin cuDNN when one has already been registered\n",
            "2024-04-08 21:12:47.820595: E external/local_xla/xla/stream_executor/cuda/cuda_fft.cc:607] Unable to register cuFFT factory: Attempting to register factory for plugin cuFFT when one has already been registered\n",
            "2024-04-08 21:12:47.947260: E external/local_xla/xla/stream_executor/cuda/cuda_blas.cc:1515] Unable to register cuBLAS factory: Attempting to register factory for plugin cuBLAS when one has already been registered\n",
            "\u001b[34m\u001b[1mtrain: \u001b[0mweights=https://github.com/ultralytics/yolov5/releases/download/v7.0/yolov5m.pt, cfg=, data=/content/dataset/data.yaml, hyp=dataset/yolov5/data/hyps/hyp.scratch-low.yaml, epochs=3, batch_size=16, imgsz=640, rect=False, resume=False, nosave=False, noval=False, noautoanchor=False, noplots=False, evolve=None, evolve_population=dataset/yolov5/data/hyps, resume_evolve=None, bucket=, cache=None, image_weights=False, device=, multi_scale=False, single_cls=False, optimizer=SGD, sync_bn=False, workers=8, project=dataset/yolov5/runs/train, name=exp, exist_ok=False, quad=False, cos_lr=False, label_smoothing=0.0, patience=100, freeze=[0], save_period=-1, seed=0, local_rank=-1, entity=None, upload_dataset=False, bbox_interval=-1, artifact_alias=latest, ndjson_console=False, ndjson_file=False\n",
            "\u001b[34m\u001b[1mgithub: \u001b[0mup to date with https://github.com/ultralytics/yolov5 ✅\n",
            "YOLOv5 🚀 v7.0-296-gae4ef3b2 Python-3.10.12 torch-2.2.1+cu121 CUDA:0 (Tesla T4, 15102MiB)\n",
            "\n",
            "\u001b[34m\u001b[1mhyperparameters: \u001b[0mlr0=0.01, lrf=0.01, momentum=0.937, weight_decay=0.0005, warmup_epochs=3.0, warmup_momentum=0.8, warmup_bias_lr=0.1, box=0.05, cls=0.5, cls_pw=1.0, obj=1.0, obj_pw=1.0, iou_t=0.2, anchor_t=4.0, fl_gamma=0.0, hsv_h=0.015, hsv_s=0.7, hsv_v=0.4, degrees=0.0, translate=0.1, scale=0.5, shear=0.0, perspective=0.0, flipud=0.0, fliplr=0.5, mosaic=1.0, mixup=0.0, copy_paste=0.0\n",
            "\u001b[34m\u001b[1mComet: \u001b[0mrun 'pip install comet_ml' to automatically track and visualize YOLOv5 🚀 runs in Comet\n",
            "\u001b[34m\u001b[1mTensorBoard: \u001b[0mStart with 'tensorboard --logdir dataset/yolov5/runs/train', view at http://localhost:6006/\n",
            "Downloading https://ultralytics.com/assets/Arial.ttf to /root/.config/Ultralytics/Arial.ttf...\n",
            "100%|██████████| 755k/755k [00:00<00:00, 78.9MB/s]\n",
            "Downloading https://github.com/ultralytics/yolov5/releases/download/v7.0/yolov5m.pt to yolov5m.pt...\n",
            "100%|██████████| 40.8M/40.8M [00:00<00:00, 225MB/s]\n",
            "\n",
            "Overriding model.yaml nc=80 with nc=1\n",
            "\n",
            "from  n    params  module                                  arguments\n",
            "0                -1  1      5280  models.common.Conv                      [3, 48, 6, 2, 2]\n",
            "1                -1  1     41664  models.common.Conv                      [48, 96, 3, 2]\n",
            "2                -1  2     65280  models.common.C3                        [96, 96, 2]\n",
            "3                -1  1    166272  models.common.Conv                      [96, 192, 3, 2]\n",
            "4                -1  4    444672  models.common.C3                        [192, 192, 4]\n",
            "5                -1  1    664320  models.common.Conv                      [192, 384, 3, 2]\n",
            "6                -1  6   2512896  models.common.C3                        [384, 384, 6]\n",
            "7                -1  1   2655744  models.common.Conv                      [384, 768, 3, 2]\n",
            "8                -1  2   4134912  models.common.C3                        [768, 768, 2]\n",
            "9                -1  1   1476864  models.common.SPPF                      [768, 768, 5]\n",
            "10                -1  1    295680  models.common.Conv                      [768, 384, 1, 1]\n",
            "11                -1  1         0  torch.nn.modules.upsampling.Upsample    [None, 2, 'nearest']\n",
            "12           [-1, 6]  1         0  models.common.Concat                    [1]\n",
            "13                -1  2   1182720  models.common.C3                        [768, 384, 2, False]\n",
            "14                -1  1     74112  models.common.Conv                      [384, 192, 1, 1]\n",
            "15                -1  1         0  torch.nn.modules.upsampling.Upsample    [None, 2, 'nearest']\n",
            "16           [-1, 4]  1         0  models.common.Concat                    [1]\n",
            "17                -1  2    296448  models.common.C3                        [384, 192, 2, False]\n",
            "18                -1  1    332160  models.common.Conv                      [192, 192, 3, 2]\n",
            "19          [-1, 14]  1         0  models.common.Concat                    [1]\n",
            "20                -1  2   1035264  models.common.C3                        [384, 384, 2, False]\n",
            "21                -1  1   1327872  models.common.Conv                      [384, 384, 3, 2]\n",
            "22          [-1, 10]  1         0  models.common.Concat                    [1]\n",
            "23                -1  2   4134912  models.common.C3                        [768, 768, 2, False]\n",
            "24      [17, 20, 23]  1     24246  models.yolo.Detect                      [1, [[10, 13, 16, 30, 33, 23], [30, 61, 62, 45, 59, 119], [116, 90, 156, 198, 373, 326]], [192, 384, 768]]\n",
            "Model summary: 291 layers, 20871318 parameters, 20871318 gradients, 48.2 GFLOPs\n",
            "\n",
            "Transferred 475/481 items from yolov5m.pt\n",
            "\u001b[34m\u001b[1mAMP: \u001b[0mchecks passed ✅\n",
            "\u001b[34m\u001b[1moptimizer:\u001b[0m SGD(lr=0.01) with parameter groups 79 weight(decay=0.0), 82 weight(decay=0.0005), 82 bias\n",
            "\u001b[34m\u001b[1malbumentations: \u001b[0mBlur(p=0.01, blur_limit=(3, 7)), MedianBlur(p=0.01, blur_limit=(3, 7)), ToGray(p=0.01), CLAHE(p=0.01, clip_limit=(1, 4.0), tile_grid_size=(8, 8))\n",
            "/usr/lib/python3.10/multiprocessing/popen_fork.py:66: RuntimeWarning: os.fork() was called. os.fork() is incompatible with multithreaded code, and JAX is multithreaded, so this will likely lead to a deadlock.\n",
            "self.pid = os.fork()\n",
            "\u001b[34m\u001b[1mtrain: \u001b[0mScanning /content/dataset/train/labels... 1390 images, 10 backgrounds, 0 corrupt: 100%|██████████| 1400/1400 [00:03<00:00, 386.63it/s]\n",
            "\u001b[34m\u001b[1mtrain: \u001b[0mNew cache created: /content/dataset/train/labels.cache\n",
            "\u001b[34m\u001b[1mval: \u001b[0mScanning /content/dataset/valid/labels... 310 images, 0 backgrounds, 0 corrupt: 100%|██████████| 310/310 [00:00<00:00, 381.42it/s]\n",
            "\u001b[34m\u001b[1mval: \u001b[0mNew cache created: /content/dataset/valid/labels.cache\n",
            "\n",
            "\u001b[34m\u001b[1mAutoAnchor: \u001b[0m4.92 anchors/target, 1.000 Best Possible Recall (BPR). Current anchors are a good fit to dataset ✅\n",
            "Plotting labels to dataset/yolov5/runs/train/exp/labels.jpg...\n",
            "Image sizes 640 train, 640 val\n",
            "Using 2 dataloader workers\n",
            "Logging results to \u001b[1mdataset/yolov5/runs/train/exp\u001b[0m\n",
            "Starting training for 3 epochs...\n",
            "\n",
            "Epoch    GPU_mem   box_loss   obj_loss   cls_loss  Instances       Size\n",
            "        0/2       6.2G    0.06456    0.03049          0         19        640: 100%|██████████| 88/88 [01:14<00:00,  1.18it/s]\n",
            "                 Class     Images  Instances          P          R      mAP50   mAP50-95: 100%|██████████| 10/10 [00:07<00:00,  1.31it/s]\n",
            "all        310        314       0.53      0.608      0.556      0.153\n",
            "\n",
            "Epoch    GPU_mem   box_loss   obj_loss   cls_loss  Instances       Size\n",
            "        1/2      6.86G    0.04514    0.01979          0         19        640: 100%|██████████| 88/88 [01:09<00:00,  1.26it/s]\n",
            "                 Class     Images  Instances          P          R      mAP50   mAP50-95: 100%|██████████| 10/10 [00:06<00:00,  1.46it/s]\n",
            "all        310        314      0.736      0.825      0.855      0.354\n",
            "\n",
            "Epoch    GPU_mem   box_loss   obj_loss   cls_loss  Instances       Size\n",
            "        2/2      6.87G    0.03596    0.01581          0         16        640: 100%|██████████| 88/88 [01:10<00:00,  1.24it/s]\n",
            "                 Class     Images  Instances          P          R      mAP50   mAP50-95: 100%|██████████| 10/10 [00:05<00:00,  1.77it/s]\n",
            "all        310        314      0.843      0.949      0.957      0.481\n",
            "\n",
            "3 epochs completed in 0.068 hours.\n",
            "Optimizer stripped from dataset/yolov5/runs/train/exp/weights/last.pt, 42.2MB\n",
            "Optimizer stripped from dataset/yolov5/runs/train/exp/weights/best.pt, 42.2MB\n",
            "\n",
            "Validating dataset/yolov5/runs/train/exp/weights/best.pt...\n",
            "Fusing layers...\n",
            "Model summary: 212 layers, 20852934 parameters, 0 gradients, 47.9 GFLOPs\n",
            "                 Class     Images  Instances          P          R      mAP50   mAP50-95: 100%|██████████| 10/10 [00:07<00:00,  1.42it/s]\n",
            "all        310        314      0.858      0.936      0.957       0.48\n",
            "Results saved to \u001b[1mdataset/yolov5/runs/train/exp\u001b[0m\n"
          ]
        }
      ]
    },
    {
      "cell_type": "markdown",
      "source": [
        "# \"3. Сохраните веса на google-диск\""
      ],
      "metadata": {
        "id": "rmhOQaZ8SNRX"
      }
    },
    {
      "cell_type": "code",
      "source": [
        "!ls dataset/yolov5/runs/train/exp/weights"
      ],
      "metadata": {
        "colab": {
          "base_uri": "https://localhost:8080/"
        },
        "id": "ScDoqv9Icqgr",
        "outputId": "5fd24479-6837-4e92-f0ed-ae81d4d5596b"
      },
      "execution_count": null,
      "outputs": [
        {
          "output_type": "stream",
          "name": "stdout",
          "text": [
            "best.pt  last.pt\n"
          ]
        }
      ]
    },
    {
      "cell_type": "code",
      "source": [
        "\n",
        "drive.mount('/content/drive/') # монтируем свой диск в папку drive рабочего каталога\n",
        "my_drv_path = '/content/drive/MyDrive/' # сохраним путь к нашему диску в переменную\n",
        "!mkdir {my_drv_path}/yolo_weights/ # создаём папку"
      ],
      "metadata": {
        "colab": {
          "base_uri": "https://localhost:8080/"
        },
        "id": "ati2gnZkqp2W",
        "outputId": "52d19b9d-de1f-4992-dd09-1ec558cb338b"
      },
      "execution_count": null,
      "outputs": [
        {
          "output_type": "stream",
          "name": "stdout",
          "text": [
            "Mounted at /content/drive/\n"
          ]
        }
      ]
    },
    {
      "cell_type": "code",
      "source": [
        "best_weights_path = my_terra_yolov5.exp_dict['train']['last_exp_path']+'/weights/best.pt' # сохраним путь в переменную\n",
        "!cp {best_weights_path} {my_drv_path+'/yolo_weights/'} # копируем веса на гугл диск\n",
        "!ls {my_drv_path+'/yolo_weights/'}"
      ],
      "metadata": {
        "colab": {
          "base_uri": "https://localhost:8080/"
        },
        "id": "tTtQgL9Xq0TL",
        "outputId": "e54bb4d7-c3a4-4369-d176-d7cdea104f8e"
      },
      "execution_count": null,
      "outputs": [
        {
          "output_type": "stream",
          "name": "stdout",
          "text": [
            "best.pt\n"
          ]
        }
      ]
    },
    {
      "cell_type": "markdown",
      "source": [
        "# \"4. Создайте отдельный ноутбук, в котором установите TerraYolo\""
      ],
      "metadata": {
        "id": "kLxA69thSOxm"
      }
    },
    {
      "cell_type": "markdown",
      "source": [
        "\n",
        "https://colab.research.google.com/drive/1-z7ndJrWfG46paaCisZ5Kfv_UlxHDO-O?usp=sharing"
      ],
      "metadata": {
        "id": "IoCZIGT988QX"
      }
    }
  ]
}