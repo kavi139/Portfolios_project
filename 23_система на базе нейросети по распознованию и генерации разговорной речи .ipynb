{
  "nbformat": 4,
  "nbformat_minor": 0,
  "metadata": {
    "colab": {
      "provenance": []
    },
    "kernelspec": {
      "name": "python3",
      "display_name": "Python 3"
    },
    "language_info": {
      "name": "python"
    }
  },
  "cells": [
    {
      "cell_type": "markdown",
      "source": [
        "**Задание Pro**\n",
        "\n",
        "1. Запишите с помощью микрофона произвольное стихотворение\n",
        "2. Выполните распознавание Вашей речи (можно использовать любой инструмент)\n",
        "3. Оцените качество распознавания фрагмента с помощью метрики **WER**"
      ],
      "metadata": {
        "id": "FB5T95F4f9b1"
      }
    },
    {
      "cell_type": "code",
      "source": [
        "!pip -q install ffmpeg-python SpeechRecognition pydub jiwer"
      ],
      "metadata": {
        "colab": {
          "base_uri": "https://localhost:8080/"
        },
        "id": "jlara_uAMadt",
        "outputId": "2e63b41e-0988-430a-f21c-9825a08b8772"
      },
      "execution_count": null,
      "outputs": [
        {
          "output_type": "stream",
          "name": "stdout",
          "text": [
            "\u001b[2K     \u001b[90m━━━━━━━━━━━━━━━━━━━━━━━━━━━━━━━━━━━━━━━━\u001b[0m \u001b[32m32.8/32.8 MB\u001b[0m \u001b[31m40.5 MB/s\u001b[0m eta \u001b[36m0:00:00\u001b[0m\n",
            "\u001b[2K     \u001b[90m━━━━━━━━━━━━━━━━━━━━━━━━━━━━━━━━━━━━━━━━\u001b[0m \u001b[32m3.4/3.4 MB\u001b[0m \u001b[31m86.8 MB/s\u001b[0m eta \u001b[36m0:00:00\u001b[0m\n",
            "\u001b[?25h"
          ]
        }
      ]
    },
    {
      "cell_type": "code",
      "source": [
        "import gdown\n",
        "# Загружаем модуль для работы с микрофоном\n",
        "gdown.download('https://storage.yandexcloud.net/aiueducation/Intensive/v2.0/micro.py', None, quiet=True)\n",
        "\n",
        "import os\n",
        "import micro                        # модуль для работы с микрофоном\n",
        "import scipy\n",
        "import speech_recognition as sR     # модуль для распознавания речи\n",
        "from jiwer import wer               # модуль для оценки распознанного текста по методу WER\n",
        "from pydub import AudioSegment      # модуль конвертирования аудио\n"
      ],
      "metadata": {
        "colab": {
          "base_uri": "https://localhost:8080/",
          "height": 36
        },
        "id": "xPRmxnYTMbBh",
        "outputId": "8603b9f9-7eca-4542-d747-b63f259f9b51"
      },
      "execution_count": null,
      "outputs": [
        {
          "output_type": "execute_result",
          "data": {
            "text/plain": [
              "'micro.py'"
            ],
            "application/vnd.google.colaboratory.intrinsic+json": {
              "type": "string"
            }
          },
          "metadata": {},
          "execution_count": 4
        }
      ]
    },
    {
      "cell_type": "code",
      "source": [
        "def record():\n",
        "    # Запустим процесс записи с микрофона\n",
        "    audio, sr = micro.get_audio()\n",
        "\n",
        "    # Сохраним запись в файл recording.wav\n",
        "    scipy.io.wavfile.write('recording.wav', sr, audio)"
      ],
      "metadata": {
        "id": "VjBzfTufLDH8"
      },
      "execution_count": null,
      "outputs": []
    },
    {
      "cell_type": "code",
      "source": [
        "# \"1.Запишите с помощью микрофона произвольное стихотворение\"\n",
        "record()"
      ],
      "metadata": {
        "colab": {
          "base_uri": "https://localhost:8080/",
          "height": 96
        },
        "id": "pDTJyfS8KlM-",
        "outputId": "5cd7435b-91f0-483a-a688-6facdb925684"
      },
      "execution_count": null,
      "outputs": [
        {
          "output_type": "display_data",
          "data": {
            "text/plain": [
              "<IPython.core.display.HTML object>"
            ],
            "text/html": [
              "\n",
              "<script>  // создаем тег <script>, сообщающий браузеру о том, что внутри находится исполняемый код JavaScript\n",
              "var my_div = document.createElement(\"DIV\");  // создаем новый элемент DIV(тег-контейнер для логического выделения блока документа)\n",
              "var my_p = document.createElement(\"P\");  // создаем новый элемент P(параграф для логической группировки текста)\n",
              "var my_btn = document.createElement(\"BUTTON\");  // создаем новый элемент(кнопку) BUTTON\n",
              "var t = document.createTextNode(\"Press to start recording\");  // создаем текстовое содержимое для кнопки\n",
              "\n",
              "my_btn.appendChild(t);  // добавляем текстовое содержимое элементу BUTTON\n",
              "my_div.appendChild(my_btn);  // кнопку с текстом BUTTON добавляем в блок DIV\n",
              "document.body.appendChild(my_div);  // добавляем наш блок в элемент <body>(\"тело\", для хранения содержимого веб-страницы)\n",
              "\n",
              "var base64data = 0;  // будем использовать для аудиоданных метод кодирования информации в 64-разрядный код\n",
              "var reader;  // создаем переменную для чтения файла\n",
              "var recorder, gumStream; // объявляем переменные для записи данных/потока\n",
              "var recordButton = my_btn; //  создаем переменную для кнопки записи аудио с микрофона\n",
              "\n",
              "var handleSuccess = function(stream) {  // объявляем функцию для работы с потоками данных\n",
              "  gumStream = stream;  // создаем переменную для потока\n",
              "  var options = {\n",
              "    mimeType : 'audio/webm;codecs=opus' // в опциях задаем медиа тип с аудиоформатом и кодеками\n",
              "  };            \n",
              "  recorder = new MediaRecorder(stream); // создаем новый объект MediaRecorder, получающий медиапоток для записи.\n",
              "  // MediaRecorder - интерфейс MediaStream Recording API представляющий функциональность для простой записи медиа. Создается..\n",
              "  // ..с использованием MediaRecorder() конструктора.\n",
              "  recorder.ondataavailable = function(e) {  // вызываем обработчик dataavailable события, запускаемое по окончанию записи          \n",
              "    var url = URL.createObjectURL(e.data); // этим методом создаем DOMString(UTF-16 String), содержащий URL с указанием на объект e.data\n",
              "    var preview = document.createElement('audio'); // создаем элемент-тег аудио\n",
              "    preview.controls = true; // активизируем элементы управления\n",
              "    preview.src = url; // берем в кач-ве исходных данных файл, содержащийся в записанной ранее URL\n",
              "    document.body.appendChild(preview); //добавляем элемент аудио в <body>(\"тело\", для хранения содержимого веб-страницы)\n",
              "\n",
              "    reader = new FileReader();  // создаем объект класса FileReader для чтения разных источников данных\n",
              "    reader.readAsDataURL(e.data);  // читаем содержимое указанного файла\n",
              "    reader.onloadend = function() {  // обработчик события, запускаемого после передачи данных\n",
              "      base64data = reader.result; // записываем прочитанное содержимое в base64data\n",
              "    }\n",
              "  };\n",
              "  recorder.start();  // начало записи медиа\n",
              "  };\n",
              "\n",
              "recordButton.innerText = \"Идёт запись... нажмите для остановки\"; // такой текст будет на кнопке BUTTON во время записи аудио\n",
              "\n",
              "// запрос разрешения пользователя на доступ к устройству захвата аудио(микрофон), указываем True\n",
              "navigator.mediaDevices.getUserMedia({audio: true}).then(handleSuccess);\n",
              "\n",
              "\n",
              "function toggleRecording() {  // функция опишет действия по завершению записи (после клика мышкой по кнопке \"Recording... press to stop\")\n",
              "  if (recorder && recorder.state == \"recording\") {  // если рекордер находится в процессе записи \n",
              "      recorder.stop();  // рекордер прерывается\n",
              "      gumStream.getAudioTracks()[0].stop();  // отключается запись и доступ к микрофону\n",
              "      recordButton.innerText = \"Saving the recording... pls wait!\" // эта надпись(сохранение записи) отобразится на кнопке BUTTON \n",
              "  }\n",
              "}\n",
              "\n",
              "// https://stackoverflow.com/a/951057\n",
              "function sleep(ms) {  // создаем функцию с задержкой вызова\n",
              "  return new Promise(resolve => setTimeout(resolve, ms));  \n",
              "  // new Promise - конструкция для отложенных вычислений\n",
              "  // setTimeout позволяет вызвать функцию один раз через определённый интервал времени\n",
              "}\n",
              "\n",
              "var data = new Promise(resolve=>{\n",
              "recordButton.onclick = ()=>{  // при нажатии левой кнопкой мыши на кнопку \"Recording... press to stop\"\n",
              "toggleRecording()  // вызывается функция завершения аудиозаписи\n",
              "\n",
              "sleep(2000).then(() => {  // и после задержки 2000мс(2 сек)\n",
              "  resolve(base64data.toString())  // полученные данные из формата base64 преобразовываем в строку\n",
              "\n",
              "});\n",
              "\n",
              "}\n",
              "});\n",
              "      \n",
              "</script>\n"
            ]
          },
          "metadata": {}
        }
      ]
    },
    {
      "cell_type": "code",
      "source": [
        "# \"2.Выполните распознавание Вашей речи\"\n",
        "def recognizeAudio(filename, duration=None):\n",
        "  AUDIO_FILE = os.path.join(filename) # задаем путь к аудиофайлу\n",
        "  r = sR.Recognizer() # создаем объект класса Recognizer\n",
        "  with sR.AudioFile(AUDIO_FILE) as source:\n",
        "    audio = r.record(source, duration=duration) # считываем аудиофайл\n",
        "\n",
        "  return r.recognize_google(audio, language='ru')\n",
        "\n",
        "# Запускаем распознавание\n",
        "res = recognizeAudio('recording.wav')\n",
        "res"
      ],
      "metadata": {
        "colab": {
          "base_uri": "https://localhost:8080/",
          "height": 36
        },
        "id": "4pEln10sKbq-",
        "outputId": "33e917e6-f969-41e3-9910-875ef3c552f1"
      },
      "execution_count": null,
      "outputs": [
        {
          "output_type": "execute_result",
          "data": {
            "text/plain": [
              "'Мороз и солнце день чудесный Ещё ты дремлешь друг прелестный Пора красавица проснись открой сомкнуты негой взоры навстречу северной Авроры звездою севера явись'"
            ],
            "application/vnd.google.colaboratory.intrinsic+json": {
              "type": "string"
            }
          },
          "metadata": {},
          "execution_count": 14
        }
      ]
    },
    {
      "cell_type": "code",
      "source": [
        "# \"3.Оцените качество распознавания фрагмента с помощью метрики WER\"\n",
        "original = \"мороз и солнце день чудесный ещё ты дремлешь друг прелестный пора красавица проснись Открой сомкнуты негой взоры Навстречу северной Авроры звездою севера явись\"\n",
        "\n",
        "print('Оригинал:               ', original)\n",
        "print('Результат распознавания:', res)\n",
        "print('WER:', wer(original.lower(), res.lower()))"
      ],
      "metadata": {
        "colab": {
          "base_uri": "https://localhost:8080/"
        },
        "id": "I65yTa-vLzOn",
        "outputId": "cebf9b02-f0bb-4f57-abf3-bca536dedebc"
      },
      "execution_count": null,
      "outputs": [
        {
          "output_type": "stream",
          "name": "stdout",
          "text": [
            "Оригинал:                мороз и солнце день чудесный ещё ты дремлешь друг прелестный пора красавица проснись Открой сомкнуты негой взоры Навстречу северной Авроры звездою севера явись\n",
            "Результат распознавания: Мороз и солнце день чудесный Ещё ты дремлешь друг прелестный Пора красавица проснись открой сомкнуты негой взоры навстречу северной Авроры звездою севера явись\n",
            "WER: 0.0\n"
          ]
        }
      ]
    }
  ]
}